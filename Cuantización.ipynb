{
  "nbformat": 4,
  "nbformat_minor": 0,
  "metadata": {
    "colab": {
      "provenance": [],
      "authorship_tag": "ABX9TyPPK1wNlqvL2y0/pHJJBspz"
    },
    "kernelspec": {
      "name": "python3",
      "display_name": "Python 3"
    },
    "language_info": {
      "name": "python"
    }
  },
  "cells": [
    {
      "cell_type": "markdown",
      "source": [
        "# **Cuantización de Modelos**"
      ],
      "metadata": {
        "id": "zPLpik6s1Ki_"
      }
    },
    {
      "cell_type": "markdown",
      "source": [
        "La cuantización de modelos es una técnica esencial en el campo del aprendizaje automático que permite reducir el tamaño y la complejidad de los modelos sin sacrificar significativamente su precisión. A continuación, exploraremos cómo implementarla."
      ],
      "metadata": {
        "id": "REWb8GXS1Qh-"
      }
    },
    {
      "cell_type": "markdown",
      "source": [
        "# **Cómo Cuantizar Modelos**\n",
        "La cuantización puede realizarse de varias maneras. Las técnicas más comunes incluyen la cuantización estática, la cuantización dinámica y la cuantización de entrenamiento con conciencia cuantizada.\n",
        "\n",
        "- **Cuantización Estática:** En esta técnica, se analizan los datos de entrada y salida del modelo antes de la inferencia para determinar los rangos adecuados para la cuantización. Los pesos y las activaciones se cuantizan utilizando estos rangos predefinidos, lo que permite optimizaciones adicionales."
      ],
      "metadata": {
        "id": "Bkob2piR1bcO"
      }
    },
    {
      "cell_type": "code",
      "execution_count": null,
      "metadata": {
        "colab": {
          "base_uri": "https://localhost:8080/"
        },
        "id": "2jF00Qd2Jmr1",
        "outputId": "24fa4bd7-6e1c-43c9-847c-7bb9f0216e5b"
      },
      "outputs": [
        {
          "output_type": "stream",
          "name": "stderr",
          "text": [
            "/usr/local/lib/python3.11/dist-packages/torch/ao/quantization/observer.py:229: UserWarning: Please use quant_min and quant_max to specify the range for observers.                     reduce_range will be deprecated in a future release of PyTorch.\n",
            "  warnings.warn(\n"
          ]
        },
        {
          "output_type": "stream",
          "name": "stdout",
          "text": [
            "ModeloSencillo(\n",
            "  (fc): QuantizedLinear(in_features=10, out_features=2, scale=0.02537916973233223, zero_point=73, qscheme=torch.per_channel_affine)\n",
            ")\n"
          ]
        }
      ],
      "source": [
        "import torch\n",
        "import torch.quantization\n",
        "\n",
        "# Crear un modelo sencillo\n",
        "class ModeloSencillo(torch.nn.Module):\n",
        "    def __init__(self):\n",
        "        super(ModeloSencillo, self).__init__()\n",
        "        self.fc = torch.nn.Linear(10, 2)\n",
        "\n",
        "    def forward(self, x):\n",
        "        return self.fc(x)\n",
        "\n",
        "# Instanciar el modelo y prepararlo para cuantización\n",
        "model = ModeloSencillo()\n",
        "model.qconfig = torch.quantization.get_default_qconfig('fbgemm')\n",
        "torch.quantization.prepare(model, inplace=True)\n",
        "\n",
        "# Simular datos de calibración\n",
        "datos_calibracion = torch.randn(100, 10)\n",
        "model(datos_calibracion)\n",
        "\n",
        "# Cuantizar el modelo\n",
        "torch.quantization.convert(model, inplace=True)\n",
        "\n",
        "# Mostrar el modelo cuantizado\n",
        "print(model)"
      ]
    },
    {
      "cell_type": "markdown",
      "source": [
        "- **Cuantización Dinámica:** Aquí, los pesos del modelo se cuantizan antes de la inferencia, pero las activaciones se cuantizan dinámicamente durante la inferencia. Esta técnica es útil para modelos que se ejecutan en dispositivos con capacidades de cómputo más limitadas. En otras palabras, convierte pesos a menor precisión durante la inferencia, manteniendo activaciones en FP32."
      ],
      "metadata": {
        "id": "s9uwUUcy1hzu"
      }
    },
    {
      "cell_type": "code",
      "source": [
        "import torch.quantization\n",
        "\n",
        "# Cuantización dinámica del modelo\n",
        "model_dynamic = torch.quantization.quantize_dynamic(model, {torch.nn.Linear}, dtype=torch.qint8)\n",
        "\n",
        "# Mostrar el modelo cuantizado dinámicamente\n",
        "print(model_dynamic)"
      ],
      "metadata": {
        "colab": {
          "base_uri": "https://localhost:8080/"
        },
        "id": "joaVwhdOJ5jd",
        "outputId": "509df28d-97d1-4f47-9580-658bd9d0d2a5"
      },
      "execution_count": null,
      "outputs": [
        {
          "output_type": "stream",
          "name": "stdout",
          "text": [
            "ModeloSencillo(\n",
            "  (fc): QuantizedLinear(in_features=10, out_features=2, scale=0.02537916973233223, zero_point=73, qscheme=torch.per_channel_affine)\n",
            ")\n"
          ]
        }
      ]
    },
    {
      "cell_type": "markdown",
      "source": [
        "- **Cuantización de Entrenamiento con Conciencia Cuantizada (QAT):** Esta técnica ajusta el modelo durante el entrenamiento para que sea robusto a la cuantización. Aunque es más compleja, puede resultar en modelos cuantizados con mejor desempeño. Ajusta pesos en menor precisión durante el entrenamiento para reducir la pérdida de precisión."
      ],
      "metadata": {
        "id": "89TG4Ot01oOv"
      }
    },
    {
      "cell_type": "code",
      "source": [
        "!pip install torch\n",
        "\n",
        "# Importamos las librerías necesarias\n",
        "import torch\n",
        "import torch.nn as nn\n",
        "import torch.quantization\n",
        "from torch.utils.data import TensorDataset, DataLoader\n",
        "\n",
        "# Definimos el dispositivo (GPU si está disponible, CPU en caso contrario)\n",
        "device = torch.device(\"cuda\" if torch.cuda.is_available() else \"cpu\")\n",
        "\n",
        "# Crear un modelo sencillo\n",
        "class ModeloSencillo(nn.Module):  # Modelo hereda de nn.Module\n",
        "    def __init__(self):\n",
        "        super(ModeloSencillo, self).__init__()\n",
        "        self.fc = nn.Linear(10, 2)\n",
        "\n",
        "    def forward(self, x):\n",
        "        return self.fc(x)\n",
        "\n",
        "# Instanciar el modelo y moverlo al dispositivo\n",
        "model = ModeloSencillo().to(device)\n",
        "\n",
        "# Preparar el modelo para QAT (Quantization Aware Training)\n",
        "model.qconfig = torch.quantization.get_default_qat_qconfig('fbgemm')\n",
        "torch.quantization.prepare_qat(model, inplace=True)\n",
        "\n",
        "# Definir datos simulados de entrenamiento y moverlos al dispositivo\n",
        "datos = torch.randn(100, 10).to(device)\n",
        "etiquetas = torch.randint(0, 2, (100,)).to(device)\n",
        "dataset = TensorDataset(datos, etiquetas)\n",
        "dataloader = DataLoader(dataset, batch_size=10)\n",
        "\n",
        "# Definir la función de pérdida\n",
        "criterion = nn.CrossEntropyLoss()\n",
        "\n",
        "# Definir el optimizador, pasandole los parámetros del modelo\n",
        "optim = torch.optim.SGD(model.parameters(), lr=0.01)\n",
        "\n",
        "# Entrenar el modelo\n",
        "for epoch in range(10):\n",
        "    for datos, etiquetas in dataloader:\n",
        "        # Poner a cero los gradientes\n",
        "        optim.zero_grad()\n",
        "        # Hacer la predicción con el modelo\n",
        "        salida = model(datos)\n",
        "        # Calcular la pérdida\n",
        "        perdida = criterion(salida, etiquetas)\n",
        "        # Calcular los gradientes\n",
        "        perdida.backward()\n",
        "        # Actualizar los pesos del modelo\n",
        "        optim.step()\n",
        "\n",
        "# Convertir a modelo cuantizado\n",
        "torch.quantization.convert(model, inplace=True)\n",
        "\n",
        "# Mostrar el modelo cuantizado\n",
        "print(model)"
      ],
      "metadata": {
        "colab": {
          "base_uri": "https://localhost:8080/"
        },
        "id": "-GDOfvUEJ770",
        "outputId": "c9f7a475-8d56-4e3c-b31b-7d7e6360843a"
      },
      "execution_count": null,
      "outputs": [
        {
          "output_type": "stream",
          "name": "stdout",
          "text": [
            "Requirement already satisfied: torch in /usr/local/lib/python3.11/dist-packages (2.5.1+cu124)\n",
            "Requirement already satisfied: filelock in /usr/local/lib/python3.11/dist-packages (from torch) (3.17.0)\n",
            "Requirement already satisfied: typing-extensions>=4.8.0 in /usr/local/lib/python3.11/dist-packages (from torch) (4.12.2)\n",
            "Requirement already satisfied: networkx in /usr/local/lib/python3.11/dist-packages (from torch) (3.4.2)\n",
            "Requirement already satisfied: jinja2 in /usr/local/lib/python3.11/dist-packages (from torch) (3.1.5)\n",
            "Requirement already satisfied: fsspec in /usr/local/lib/python3.11/dist-packages (from torch) (2024.10.0)\n",
            "Collecting nvidia-cuda-nvrtc-cu12==12.4.127 (from torch)\n",
            "  Downloading nvidia_cuda_nvrtc_cu12-12.4.127-py3-none-manylinux2014_x86_64.whl.metadata (1.5 kB)\n",
            "Collecting nvidia-cuda-runtime-cu12==12.4.127 (from torch)\n",
            "  Downloading nvidia_cuda_runtime_cu12-12.4.127-py3-none-manylinux2014_x86_64.whl.metadata (1.5 kB)\n",
            "Collecting nvidia-cuda-cupti-cu12==12.4.127 (from torch)\n",
            "  Downloading nvidia_cuda_cupti_cu12-12.4.127-py3-none-manylinux2014_x86_64.whl.metadata (1.6 kB)\n",
            "Collecting nvidia-cudnn-cu12==9.1.0.70 (from torch)\n",
            "  Downloading nvidia_cudnn_cu12-9.1.0.70-py3-none-manylinux2014_x86_64.whl.metadata (1.6 kB)\n",
            "Collecting nvidia-cublas-cu12==12.4.5.8 (from torch)\n",
            "  Downloading nvidia_cublas_cu12-12.4.5.8-py3-none-manylinux2014_x86_64.whl.metadata (1.5 kB)\n",
            "Collecting nvidia-cufft-cu12==11.2.1.3 (from torch)\n",
            "  Downloading nvidia_cufft_cu12-11.2.1.3-py3-none-manylinux2014_x86_64.whl.metadata (1.5 kB)\n",
            "Collecting nvidia-curand-cu12==10.3.5.147 (from torch)\n",
            "  Downloading nvidia_curand_cu12-10.3.5.147-py3-none-manylinux2014_x86_64.whl.metadata (1.5 kB)\n",
            "Collecting nvidia-cusolver-cu12==11.6.1.9 (from torch)\n",
            "  Downloading nvidia_cusolver_cu12-11.6.1.9-py3-none-manylinux2014_x86_64.whl.metadata (1.6 kB)\n",
            "Collecting nvidia-cusparse-cu12==12.3.1.170 (from torch)\n",
            "  Downloading nvidia_cusparse_cu12-12.3.1.170-py3-none-manylinux2014_x86_64.whl.metadata (1.6 kB)\n",
            "Requirement already satisfied: nvidia-nccl-cu12==2.21.5 in /usr/local/lib/python3.11/dist-packages (from torch) (2.21.5)\n",
            "Requirement already satisfied: nvidia-nvtx-cu12==12.4.127 in /usr/local/lib/python3.11/dist-packages (from torch) (12.4.127)\n",
            "Collecting nvidia-nvjitlink-cu12==12.4.127 (from torch)\n",
            "  Downloading nvidia_nvjitlink_cu12-12.4.127-py3-none-manylinux2014_x86_64.whl.metadata (1.5 kB)\n",
            "Requirement already satisfied: triton==3.1.0 in /usr/local/lib/python3.11/dist-packages (from torch) (3.1.0)\n",
            "Requirement already satisfied: sympy==1.13.1 in /usr/local/lib/python3.11/dist-packages (from torch) (1.13.1)\n",
            "Requirement already satisfied: mpmath<1.4,>=1.1.0 in /usr/local/lib/python3.11/dist-packages (from sympy==1.13.1->torch) (1.3.0)\n",
            "Requirement already satisfied: MarkupSafe>=2.0 in /usr/local/lib/python3.11/dist-packages (from jinja2->torch) (3.0.2)\n",
            "Downloading nvidia_cublas_cu12-12.4.5.8-py3-none-manylinux2014_x86_64.whl (363.4 MB)\n",
            "\u001b[2K   \u001b[90m━━━━━━━━━━━━━━━━━━━━━━━━━━━━━━━━━━━━━━━━\u001b[0m \u001b[32m363.4/363.4 MB\u001b[0m \u001b[31m4.5 MB/s\u001b[0m eta \u001b[36m0:00:00\u001b[0m\n",
            "\u001b[?25hDownloading nvidia_cuda_cupti_cu12-12.4.127-py3-none-manylinux2014_x86_64.whl (13.8 MB)\n",
            "\u001b[2K   \u001b[90m━━━━━━━━━━━━━━━━━━━━━━━━━━━━━━━━━━━━━━━━\u001b[0m \u001b[32m13.8/13.8 MB\u001b[0m \u001b[31m96.0 MB/s\u001b[0m eta \u001b[36m0:00:00\u001b[0m\n",
            "\u001b[?25hDownloading nvidia_cuda_nvrtc_cu12-12.4.127-py3-none-manylinux2014_x86_64.whl (24.6 MB)\n",
            "\u001b[2K   \u001b[90m━━━━━━━━━━━━━━━━━━━━━━━━━━━━━━━━━━━━━━━━\u001b[0m \u001b[32m24.6/24.6 MB\u001b[0m \u001b[31m74.3 MB/s\u001b[0m eta \u001b[36m0:00:00\u001b[0m\n",
            "\u001b[?25hDownloading nvidia_cuda_runtime_cu12-12.4.127-py3-none-manylinux2014_x86_64.whl (883 kB)\n",
            "\u001b[2K   \u001b[90m━━━━━━━━━━━━━━━━━━━━━━━━━━━━━━━━━━━━━━━━\u001b[0m \u001b[32m883.7/883.7 kB\u001b[0m \u001b[31m49.2 MB/s\u001b[0m eta \u001b[36m0:00:00\u001b[0m\n",
            "\u001b[?25hDownloading nvidia_cudnn_cu12-9.1.0.70-py3-none-manylinux2014_x86_64.whl (664.8 MB)\n",
            "\u001b[2K   \u001b[90m━━━━━━━━━━━━━━━━━━━━━━━━━━━━━━━━━━━━━━━━\u001b[0m \u001b[32m664.8/664.8 MB\u001b[0m \u001b[31m2.7 MB/s\u001b[0m eta \u001b[36m0:00:00\u001b[0m\n",
            "\u001b[?25hDownloading nvidia_cufft_cu12-11.2.1.3-py3-none-manylinux2014_x86_64.whl (211.5 MB)\n",
            "\u001b[2K   \u001b[90m━━━━━━━━━━━━━━━━━━━━━━━━━━━━━━━━━━━━━━━━\u001b[0m \u001b[32m211.5/211.5 MB\u001b[0m \u001b[31m6.0 MB/s\u001b[0m eta \u001b[36m0:00:00\u001b[0m\n",
            "\u001b[?25hDownloading nvidia_curand_cu12-10.3.5.147-py3-none-manylinux2014_x86_64.whl (56.3 MB)\n",
            "\u001b[2K   \u001b[90m━━━━━━━━━━━━━━━━━━━━━━━━━━━━━━━━━━━━━━━━\u001b[0m \u001b[32m56.3/56.3 MB\u001b[0m \u001b[31m12.6 MB/s\u001b[0m eta \u001b[36m0:00:00\u001b[0m\n",
            "\u001b[?25hDownloading nvidia_cusolver_cu12-11.6.1.9-py3-none-manylinux2014_x86_64.whl (127.9 MB)\n",
            "\u001b[2K   \u001b[90m━━━━━━━━━━━━━━━━━━━━━━━━━━━━━━━━━━━━━━━━\u001b[0m \u001b[32m127.9/127.9 MB\u001b[0m \u001b[31m7.6 MB/s\u001b[0m eta \u001b[36m0:00:00\u001b[0m\n",
            "\u001b[?25hDownloading nvidia_cusparse_cu12-12.3.1.170-py3-none-manylinux2014_x86_64.whl (207.5 MB)\n",
            "\u001b[2K   \u001b[90m━━━━━━━━━━━━━━━━━━━━━━━━━━━━━━━━━━━━━━━━\u001b[0m \u001b[32m207.5/207.5 MB\u001b[0m \u001b[31m6.1 MB/s\u001b[0m eta \u001b[36m0:00:00\u001b[0m\n",
            "\u001b[?25hDownloading nvidia_nvjitlink_cu12-12.4.127-py3-none-manylinux2014_x86_64.whl (21.1 MB)\n",
            "\u001b[2K   \u001b[90m━━━━━━━━━━━━━━━━━━━━━━━━━━━━━━━━━━━━━━━━\u001b[0m \u001b[32m21.1/21.1 MB\u001b[0m \u001b[31m78.5 MB/s\u001b[0m eta \u001b[36m0:00:00\u001b[0m\n",
            "\u001b[?25hInstalling collected packages: nvidia-nvjitlink-cu12, nvidia-curand-cu12, nvidia-cufft-cu12, nvidia-cuda-runtime-cu12, nvidia-cuda-nvrtc-cu12, nvidia-cuda-cupti-cu12, nvidia-cublas-cu12, nvidia-cusparse-cu12, nvidia-cudnn-cu12, nvidia-cusolver-cu12\n",
            "  Attempting uninstall: nvidia-nvjitlink-cu12\n",
            "    Found existing installation: nvidia-nvjitlink-cu12 12.5.82\n",
            "    Uninstalling nvidia-nvjitlink-cu12-12.5.82:\n",
            "      Successfully uninstalled nvidia-nvjitlink-cu12-12.5.82\n",
            "  Attempting uninstall: nvidia-curand-cu12\n",
            "    Found existing installation: nvidia-curand-cu12 10.3.6.82\n",
            "    Uninstalling nvidia-curand-cu12-10.3.6.82:\n",
            "      Successfully uninstalled nvidia-curand-cu12-10.3.6.82\n",
            "  Attempting uninstall: nvidia-cufft-cu12\n",
            "    Found existing installation: nvidia-cufft-cu12 11.2.3.61\n",
            "    Uninstalling nvidia-cufft-cu12-11.2.3.61:\n",
            "      Successfully uninstalled nvidia-cufft-cu12-11.2.3.61\n",
            "  Attempting uninstall: nvidia-cuda-runtime-cu12\n",
            "    Found existing installation: nvidia-cuda-runtime-cu12 12.5.82\n",
            "    Uninstalling nvidia-cuda-runtime-cu12-12.5.82:\n",
            "      Successfully uninstalled nvidia-cuda-runtime-cu12-12.5.82\n",
            "  Attempting uninstall: nvidia-cuda-nvrtc-cu12\n",
            "    Found existing installation: nvidia-cuda-nvrtc-cu12 12.5.82\n",
            "    Uninstalling nvidia-cuda-nvrtc-cu12-12.5.82:\n",
            "      Successfully uninstalled nvidia-cuda-nvrtc-cu12-12.5.82\n",
            "  Attempting uninstall: nvidia-cuda-cupti-cu12\n",
            "    Found existing installation: nvidia-cuda-cupti-cu12 12.5.82\n",
            "    Uninstalling nvidia-cuda-cupti-cu12-12.5.82:\n",
            "      Successfully uninstalled nvidia-cuda-cupti-cu12-12.5.82\n",
            "  Attempting uninstall: nvidia-cublas-cu12\n",
            "    Found existing installation: nvidia-cublas-cu12 12.5.3.2\n",
            "    Uninstalling nvidia-cublas-cu12-12.5.3.2:\n",
            "      Successfully uninstalled nvidia-cublas-cu12-12.5.3.2\n",
            "  Attempting uninstall: nvidia-cusparse-cu12\n",
            "    Found existing installation: nvidia-cusparse-cu12 12.5.1.3\n",
            "    Uninstalling nvidia-cusparse-cu12-12.5.1.3:\n",
            "      Successfully uninstalled nvidia-cusparse-cu12-12.5.1.3\n",
            "  Attempting uninstall: nvidia-cudnn-cu12\n",
            "    Found existing installation: nvidia-cudnn-cu12 9.3.0.75\n",
            "    Uninstalling nvidia-cudnn-cu12-9.3.0.75:\n",
            "      Successfully uninstalled nvidia-cudnn-cu12-9.3.0.75\n",
            "  Attempting uninstall: nvidia-cusolver-cu12\n",
            "    Found existing installation: nvidia-cusolver-cu12 11.6.3.83\n",
            "    Uninstalling nvidia-cusolver-cu12-11.6.3.83:\n",
            "      Successfully uninstalled nvidia-cusolver-cu12-11.6.3.83\n",
            "Successfully installed nvidia-cublas-cu12-12.4.5.8 nvidia-cuda-cupti-cu12-12.4.127 nvidia-cuda-nvrtc-cu12-12.4.127 nvidia-cuda-runtime-cu12-12.4.127 nvidia-cudnn-cu12-9.1.0.70 nvidia-cufft-cu12-11.2.1.3 nvidia-curand-cu12-10.3.5.147 nvidia-cusolver-cu12-11.6.1.9 nvidia-cusparse-cu12-12.3.1.170 nvidia-nvjitlink-cu12-12.4.127\n",
            "ModeloSencillo(\n",
            "  (fc): QuantizedLinear(in_features=10, out_features=2, scale=0.012983564287424088, zero_point=69, qscheme=torch.per_channel_affine)\n",
            ")\n"
          ]
        },
        {
          "output_type": "stream",
          "name": "stderr",
          "text": [
            "/usr/local/lib/python3.11/dist-packages/torch/ao/quantization/observer.py:229: UserWarning: Please use quant_min and quant_max to specify the range for observers.                     reduce_range will be deprecated in a future release of PyTorch.\n",
            "  warnings.warn(\n"
          ]
        }
      ]
    },
    {
      "cell_type": "markdown",
      "source": [
        "- **Cuantización de Post-Entrenamiento:** Convierte pesos y activaciones con calibración usando datos de entrada."
      ],
      "metadata": {
        "id": "eNkZ2Du71vud"
      }
    },
    {
      "cell_type": "code",
      "source": [
        "# Installs pytorch\n",
        "!pip install torch\n",
        "# Importamos las librerías necesarias\n",
        "import torch\n",
        "import torch.nn as nn\n",
        "import torch.quantization\n",
        "from torch.utils.data import TensorDataset, DataLoader\n",
        "\n",
        "# Definimos el dispositivo (GPU si está disponible, CPU en caso contrario)\n",
        "device = torch.device(\"cuda\" if torch.cuda.is_available() else \"cpu\")\n",
        "\n",
        "# Crear un modelo sencillo\n",
        "class ModeloSencillo(nn.Module):  # Modelo hereda de nn.Module\n",
        "    def __init__(self):\n",
        "        super(ModeloSencillo, self).__init__()\n",
        "        self.fc = nn.Linear(10, 2)\n",
        "\n",
        "    def forward(self, x):\n",
        "        return self.fc(x)\n",
        "\n",
        "# Instanciar el modelo y moverlo al dispositivo\n",
        "model = ModeloSencillo().to(device)\n",
        "\n",
        "# Preparar el modelo para QAT (Quantization Aware Training)\n",
        "model.qconfig = torch.quantization.get_default_qat_qconfig('fbgemm')\n",
        "torch.quantization.prepare_qat(model, inplace=True)\n",
        "\n",
        "# Definir datos simulados de entrenamiento y moverlos al dispositivo\n",
        "datos = torch.randn(100, 10).to(device)\n",
        "etiquetas = torch.randint(0, 2, (100,)).to(device)\n",
        "dataset = TensorDataset(datos, etiquetas)\n",
        "dataloader = DataLoader(dataset, batch_size=10)\n",
        "\n",
        "# Definir la función de pérdida\n",
        "criterion = nn.CrossEntropyLoss()\n",
        "\n",
        "# Definir el optimizador, pasandole los parámetros del modelo\n",
        "optim = torch.optim.SGD(model.parameters(), lr=0.01)\n",
        "\n",
        "# Entrenar el modelo\n",
        "for epoch in range(10):\n",
        "    for datos, etiquetas in dataloader:\n",
        "        # Poner a cero los gradientes\n",
        "        optim.zero_grad()\n",
        "        # Hacer la predicción con el modelo\n",
        "        salida = model(datos)\n",
        "        # Calcular la pérdida\n",
        "        perdida = criterion(salida, etiquetas)\n",
        "        # Calcular los gradientes\n",
        "        perdida.backward()\n",
        "        # Actualizar los pesos del modelo\n",
        "        optim.step()\n",
        "\n",
        "# Convertir a modelo cuantizado\n",
        "torch.quantization.convert(model, inplace=True)\n",
        "\n",
        "# Mostrar el modelo cuantizado\n",
        "print(model)"
      ],
      "metadata": {
        "colab": {
          "base_uri": "https://localhost:8080/"
        },
        "id": "IQVvdkGHK5LS",
        "outputId": "7c4f7371-c1a3-4bce-83d1-f93b3b7ac91c"
      },
      "execution_count": null,
      "outputs": [
        {
          "output_type": "stream",
          "name": "stdout",
          "text": [
            "Requirement already satisfied: torch in /usr/local/lib/python3.11/dist-packages (2.5.1+cu124)\n",
            "Requirement already satisfied: filelock in /usr/local/lib/python3.11/dist-packages (from torch) (3.17.0)\n",
            "Requirement already satisfied: typing-extensions>=4.8.0 in /usr/local/lib/python3.11/dist-packages (from torch) (4.12.2)\n",
            "Requirement already satisfied: networkx in /usr/local/lib/python3.11/dist-packages (from torch) (3.4.2)\n",
            "Requirement already satisfied: jinja2 in /usr/local/lib/python3.11/dist-packages (from torch) (3.1.5)\n",
            "Requirement already satisfied: fsspec in /usr/local/lib/python3.11/dist-packages (from torch) (2024.10.0)\n",
            "Requirement already satisfied: nvidia-cuda-nvrtc-cu12==12.4.127 in /usr/local/lib/python3.11/dist-packages (from torch) (12.4.127)\n",
            "Requirement already satisfied: nvidia-cuda-runtime-cu12==12.4.127 in /usr/local/lib/python3.11/dist-packages (from torch) (12.4.127)\n",
            "Requirement already satisfied: nvidia-cuda-cupti-cu12==12.4.127 in /usr/local/lib/python3.11/dist-packages (from torch) (12.4.127)\n",
            "Requirement already satisfied: nvidia-cudnn-cu12==9.1.0.70 in /usr/local/lib/python3.11/dist-packages (from torch) (9.1.0.70)\n",
            "Requirement already satisfied: nvidia-cublas-cu12==12.4.5.8 in /usr/local/lib/python3.11/dist-packages (from torch) (12.4.5.8)\n",
            "Requirement already satisfied: nvidia-cufft-cu12==11.2.1.3 in /usr/local/lib/python3.11/dist-packages (from torch) (11.2.1.3)\n",
            "Requirement already satisfied: nvidia-curand-cu12==10.3.5.147 in /usr/local/lib/python3.11/dist-packages (from torch) (10.3.5.147)\n",
            "Requirement already satisfied: nvidia-cusolver-cu12==11.6.1.9 in /usr/local/lib/python3.11/dist-packages (from torch) (11.6.1.9)\n",
            "Requirement already satisfied: nvidia-cusparse-cu12==12.3.1.170 in /usr/local/lib/python3.11/dist-packages (from torch) (12.3.1.170)\n",
            "Requirement already satisfied: nvidia-nccl-cu12==2.21.5 in /usr/local/lib/python3.11/dist-packages (from torch) (2.21.5)\n",
            "Requirement already satisfied: nvidia-nvtx-cu12==12.4.127 in /usr/local/lib/python3.11/dist-packages (from torch) (12.4.127)\n",
            "Requirement already satisfied: nvidia-nvjitlink-cu12==12.4.127 in /usr/local/lib/python3.11/dist-packages (from torch) (12.4.127)\n",
            "Requirement already satisfied: triton==3.1.0 in /usr/local/lib/python3.11/dist-packages (from torch) (3.1.0)\n",
            "Requirement already satisfied: sympy==1.13.1 in /usr/local/lib/python3.11/dist-packages (from torch) (1.13.1)\n",
            "Requirement already satisfied: mpmath<1.4,>=1.1.0 in /usr/local/lib/python3.11/dist-packages (from sympy==1.13.1->torch) (1.3.0)\n",
            "Requirement already satisfied: MarkupSafe>=2.0 in /usr/local/lib/python3.11/dist-packages (from jinja2->torch) (3.0.2)\n"
          ]
        },
        {
          "output_type": "stream",
          "name": "stderr",
          "text": [
            "/usr/local/lib/python3.11/dist-packages/torch/ao/quantization/observer.py:229: UserWarning: Please use quant_min and quant_max to specify the range for observers.                     reduce_range will be deprecated in a future release of PyTorch.\n",
            "  warnings.warn(\n"
          ]
        },
        {
          "output_type": "stream",
          "name": "stdout",
          "text": [
            "ModeloSencillo(\n",
            "  (fc): QuantizedLinear(in_features=10, out_features=2, scale=0.0224764384329319, zero_point=69, qscheme=torch.per_channel_affine)\n",
            ")\n"
          ]
        }
      ]
    },
    {
      "cell_type": "markdown",
      "source": [
        "# **Gráficos y Resultados**\n",
        "Para visualizar los efectos de la cuantización, comparemos el rendimiento de un modelo cuantizado frente a uno no cuantizado en términos de precisión y tamaño del modelo.\n",
        "- **Gráfico de Comparación de Precisión:**"
      ],
      "metadata": {
        "id": "0ziThcNm11E1"
      }
    },
    {
      "cell_type": "code",
      "source": [
        "import matplotlib.pyplot as plt\n",
        "\n",
        "# Datos de ejemplo\n",
        "modelos = ['Original', 'Estática', 'Dinámica', 'QAT']\n",
        "precision = [0.95, 0.94, 0.93, 0.94]\n",
        "\n",
        "# Crear el gráfico de barras\n",
        "plt.bar(modelos, precision, color=['blue', 'orange', 'green', 'red'])\n",
        "plt.xlabel('Tipos de Modelos')\n",
        "plt.ylabel('Precisión')\n",
        "plt.title('Comparación de Precisión entre Modelos')\n",
        "plt.show()"
      ],
      "metadata": {
        "id": "RW9yAVgHLg6R",
        "outputId": "52c87ede-9f74-435b-e516-4a003271ae8f",
        "colab": {
          "base_uri": "https://localhost:8080/",
          "height": 472
        }
      },
      "execution_count": null,
      "outputs": [
        {
          "output_type": "display_data",
          "data": {
            "text/plain": [
              "<Figure size 640x480 with 1 Axes>"
            ],
            "image/png": "[encoded data removed]"
          },
          "metadata": {}
        }
      ]
    },
    {
      "cell_type": "markdown",
      "source": [
        "- **Gráfico de Comparación de Tamaño del Modelo:**"
      ],
      "metadata": {
        "id": "GxaOLAUD3kLr"
      }
    },
    {
      "cell_type": "code",
      "source": [
        "modelos = ['Original', 'Estática', 'Dinámica', 'QAT']\n",
        "tamanos = [100, 50, 60, 55]  # En megabytes (MB)\n",
        "\n",
        "# Crear el gráfico de barras\n",
        "plt.bar(modelos, tamanos, color=['blue', 'orange', 'green', 'red'])\n",
        "plt.xlabel('Tipos de Modelos')\n",
        "plt.ylabel('Tamaño del Modelo (MB)')\n",
        "plt.title('Comparación de Tamaño del Modelo entre Modelos')\n",
        "plt.show()"
      ],
      "metadata": {
        "id": "GiCx1gVGLkF4",
        "outputId": "a1470736-1a54-43aa-f2e9-ea29b3d80c18",
        "colab": {
          "base_uri": "https://localhost:8080/",
          "height": 472
        }
      },
      "execution_count": null,
      "outputs": [
        {
          "output_type": "display_data",
          "data": {
            "text/plain": [
              "<Figure size 640x480 with 1 Axes>"
            ],
            "image/png": "[encoded data removed]"
          },
          "metadata": {}
        }
      ]
    },
    {
      "cell_type": "markdown",
      "source": [
        "# **Impacto en el Rendimiento**\n",
        "La cuantización puede reducir el tamaño del modelo hasta un 75% y acelerar la inferencia hasta 4 veces. Sin embargo, puede haber una ligera pérdida de precisión, por lo que se recomienda probar diferentes estrategias.\n",
        "\n",
        "\n",
        "La cuantización de modelos es una técnica poderosa que permite llevar la magia del Machine Learning a dispositivos con recursos limitados, al reducir el tamaño del modelo y acelerar la inferencia. ¡Es como democratizar la inteligencia artificial!"
      ],
      "metadata": {
        "id": "PGhxlDlT3rey"
      }
    }
  ]
}